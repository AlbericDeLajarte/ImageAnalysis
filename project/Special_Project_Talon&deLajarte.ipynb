{
 "cells": [
  {
   "cell_type": "markdown",
   "metadata": {},
   "source": [
    "# [IAPR 2020:][iapr2020] Project ‒ Special Project¶\n",
    "**Author:** Quentin Talon & Albéric de Lajarte  \n",
    "**Due date:** 29.05.2020  \n",
    "[iapr2018]: https://github.com/LTS5/iapr-2020\n",
    "\n",
    "## Extract datas"
   ]
  },
  {
   "cell_type": "code",
   "execution_count": null,
   "metadata": {
    "scrolled": false
   },
   "outputs": [],
   "source": [
    "import os\n",
    "import numpy as np\n",
    "import matplotlib.pyplot as plt\n",
    "import pims\n",
    "\n",
    "data_base_path = os.path.join(os.pardir, 'data')\n",
    "vid = pims.open(os.path.join(data_base_path, 'robot_parcours_1.avi'))\n",
    "plt.figure(figsize = (10,10))\n",
    "plt.imshow(vid[0])\n",
    "print(vid)"
   ]
  },
  {
   "cell_type": "markdown",
   "metadata": {},
   "source": [
    "## Part 1: Still and moving image segmentation"
   ]
  },
  {
   "cell_type": "markdown",
   "metadata": {},
   "source": [
    "### Background\n",
    "We simply calculate the mean along all the images. This reduces the noise and removes the moving object."
   ]
  },
  {
   "cell_type": "code",
   "execution_count": null,
   "metadata": {},
   "outputs": [],
   "source": [
    "vid_stack = np.stack(vid, axis=0)\n",
    "print(\"Shape of vid_stack:{}\".format(vid_stack.shape))\n",
    "background = np.median(vid_stack, axis=0).astype(int)\n",
    "print(\"Shape of background:{}\".format(background.shape))\n",
    "plt.figure(figsize = (20,20))\n",
    "plt.imshow(background)\n",
    "plt.show()"
   ]
  },
  {
   "cell_type": "markdown",
   "metadata": {},
   "source": [
    "### Moving part\n",
    "This is simply a difference of image and the backgound"
   ]
  },
  {
   "cell_type": "code",
   "execution_count": null,
   "metadata": {},
   "outputs": [],
   "source": []
  }
 ],
 "metadata": {
  "kernelspec": {
   "display_name": "Python 3",
   "language": "python",
   "name": "python3"
  },
  "language_info": {
   "codemirror_mode": {
    "name": "ipython",
    "version": 3
   },
   "file_extension": ".py",
   "mimetype": "text/x-python",
   "name": "python",
   "nbconvert_exporter": "python",
   "pygments_lexer": "ipython3",
   "version": "3.7.4"
  }
 },
 "nbformat": 4,
 "nbformat_minor": 2
}

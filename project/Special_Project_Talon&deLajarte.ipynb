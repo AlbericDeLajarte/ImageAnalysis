{
 "cells": [
  {
   "cell_type": "markdown",
   "metadata": {},
   "source": [
    "# [IAPR 2020:][iapr2020] Project ‒ Special Project¶\n",
    "**Author:** Quentin Talon & Albéric de Lajarte  \n",
    "**Due date:** 28.05.2020  \n",
    "[iapr2018]: https://github.com/LTS5/iapr-2020\n",
    "\n",
    "## Extract datas\n",
    "We used pims : `pip install git+https://github.com/soft-matter/pims.git`, `skimage`, `os`, `numpy`, `matplotlib`"
   ]
  },
  {
   "cell_type": "code",
   "execution_count": null,
   "metadata": {
    "scrolled": false
   },
   "outputs": [],
   "source": [
    "import os\n",
    "import numpy as np\n",
    "import matplotlib.pyplot as plt\n",
    "import pims\n",
    "\n",
    "data_base_path = os.path.join(os.pardir, 'data')\n",
    "vid = pims.open(os.path.join(data_base_path, 'robot_parcours_1.avi'))\n",
    "plt.figure(figsize = (10,10))\n",
    "plt.imshow(vid[0])\n",
    "print(vid)"
   ]
  },
  {
   "cell_type": "markdown",
   "metadata": {},
   "source": [
    "## Part 1: Still and moving image segmentation"
   ]
  },
  {
   "cell_type": "markdown",
   "metadata": {},
   "source": [
    "### Background\n",
    "We simply calculate the median along all the images. This reduces the noise and removes the moving object."
   ]
  },
  {
   "cell_type": "code",
   "execution_count": null,
   "metadata": {
    "scrolled": false
   },
   "outputs": [],
   "source": [
    "vid_stack = np.stack(vid, axis=0)\n",
    "print(\"Shape of vid_stack:{}\".format(vid_stack.shape))\n",
    "background = np.median(vid_stack, axis=0).astype(int)\n",
    "print(\"Shape of background:{}\".format(background.shape))\n",
    "\n",
    "plt.figure(figsize = (20,20))\n",
    "plt.imshow(background)\n",
    "plt.show()"
   ]
  },
  {
   "cell_type": "markdown",
   "metadata": {},
   "source": [
    "### Moving part\n",
    "We look at the red color, clean it a bit and look at his position, size and direction.  \n"
   ]
  },
  {
   "cell_type": "code",
   "execution_count": null,
   "metadata": {},
   "outputs": [],
   "source": [
    "#Few tests.\n",
    "from skimage.morphology import binary_opening, binary_closing, disk, label\n",
    "from skimage.measure import regionprops\n",
    "\n",
    "col_threshold = 100#How to choose it ???\n",
    "fig, ax = plt.subplots(1,2, figsize=(20,10))\n",
    "def red(v, th):\n",
    "    r = v[:,:,0] > th\n",
    "    g = v[:,:,1] < th\n",
    "    b = v[:,:,2] < th\n",
    "    return np.logical_and(r, g, b)\n",
    "red_arrow = red(vid[9], col_threshold)\n",
    "red_arrow_opened = binary_opening(red_arrow, selem=disk(2))\n",
    "\n",
    "ax[0].imshow(red_arrow)\n",
    "ax[0].set_title(\"Before opening dif\")\n",
    "ax[1].imshow(red_arrow_opened)\n",
    "ax[1].set_title(\"After opening\")\n",
    "plt.show()\n"
   ]
  },
  {
   "cell_type": "markdown",
   "metadata": {},
   "source": [
    "We had to create a home made rectangle mask"
   ]
  },
  {
   "cell_type": "code",
   "execution_count": null,
   "metadata": {},
   "outputs": [],
   "source": [
    "from skimage.draw import polygon\n",
    "def rect2mask(x0, y0, l_x, l_y, ang, shape):#ang in rad\n",
    "    hyp = 0.5*np.sqrt(l_x**2+l_y**2)\n",
    "    rect_ang = np.arctan(l_x/l_y) + np.pi/2\n",
    "    top_right = (x0+np.cos(ang+rect_ang)*hyp, y0+np.sin(ang+rect_ang)*hyp)\n",
    "    top_left = (x0+np.cos(ang+np.pi-rect_ang)*hyp, y0+np.sin(ang+np.pi-rect_ang)*hyp)\n",
    "    bottom_right = (x0+np.cos(ang-rect_ang)*hyp, y0+np.sin(ang-rect_ang)*hyp)\n",
    "    bottom_left = (x0+np.cos(ang+np.pi+rect_ang)*hyp, y0+np.sin(ang+np.pi+rect_ang)*hyp)\n",
    "    poly_coordinates = np.asarray([top_right, top_left, bottom_left, bottom_right])\n",
    "    rr, cc = polygon(poly_coordinates[:,0], poly_coordinates[:,1], shape=shape)\n",
    "    mask = np.zeros(shape, dtype=bool)\n",
    "    mask[rr, cc, :] = [True, True, True]\n",
    "    return mask"
   ]
  },
  {
   "cell_type": "markdown",
   "metadata": {},
   "source": [
    "We create a mask for each frame and apply it on the background for each frame.  \n",
    "So we have an image of the background were we see it's value only at the position of the robot."
   ]
  },
  {
   "cell_type": "code",
   "execution_count": null,
   "metadata": {},
   "outputs": [],
   "source": [
    "def crop_image(img):\n",
    "    mask = img>0\n",
    "    if img.ndim==3:\n",
    "        mask = mask.all(2)\n",
    "    mask0,mask1 = mask.any(0),mask.any(1)\n",
    "    return img[np.ix_(mask1,mask0)][2:-2, 2:-2]"
   ]
  },
  {
   "cell_type": "code",
   "execution_count": null,
   "metadata": {
    "scrolled": true
   },
   "outputs": [],
   "source": [
    "from skimage.transform import rotate\n",
    "from skimage.color import rgb2gray\n",
    "from skimage.filters import threshold_otsu\n",
    "\n",
    "# Find region of the robot\n",
    "trajectory = [regionprops(label(binary_opening(red(v, col_threshold), disk(2))))[0] for v in vid]\n",
    "trajectory_mask = [rect2mask(*point.centroid, point.major_axis_length, point.minor_axis_length, point.orientation, vid.frame_shape) for point in trajectory]\n",
    "\n",
    "# Mask the part of the backgroung that is not in this region\n",
    "hidden_background = [np.multiply(background,t) for t in trajectory_mask]\n",
    "# Rotate the image prior to cropping\n",
    "#rotated_image = [rotate(hidden, angle = -np.rad2deg(region.orientation) , preserve_range=True, center = (region.centroid[1], region.centroid[0]) ).astype(np.uint8) for hidden, region in zip(hidden_background,trajectory)]\n",
    "# Crop the part of the image that is not in this region\n",
    "#selected_background = [crop_image(rotated) for rotated in rotated_image]\n",
    "# Use thresholding to have binary images\n",
    "#segmented_background = [np.where(rgb2gray(selected) > threshold_otsu(rgb2gray(selected)), 1, 0) for selected in selected_background]\n",
    "# Use morphological closing to remove noise.\n",
    "#clean_background = [label(binary_closing(im, selem=disk(1))) for im in segmented_background]\n",
    "# Visual check\n",
    "#fig, axes = plt.subplots(1, 2, figsize = (5, 10))\n",
    "#axes[0].imshow(segmented_background[16], cmap=\"gray\")\n",
    "#axes[1].imshow(clean_background[16], cmap=\"gray\")"
   ]
  },
  {
   "cell_type": "code",
   "execution_count": null,
   "metadata": {
    "scrolled": true
   },
   "outputs": [],
   "source": [
    "#fig, axes = plt.subplots(6, 7, figsize = (10, 10))\n",
    "\n",
    "#for axe, seg, clean in zip(axes.flatten(), segmented_background, clean_background) :\n",
    "#    axe.imshow(clean, cmap=\"gray\")\n",
    "#    feature = np.std(clean)\n",
    "#    \n",
    "#    symbol = \"T\" if feature > 13 else \"F\"\n",
    "#    axe.set_title(symbol + \" var:{:.2} \".format(feature))\n",
    "#fig.tight_layout()\n",
    "#plt.show()"
   ]
  },
  {
   "cell_type": "markdown",
   "metadata": {},
   "source": [
    "## Digits recognition"
   ]
  },
  {
   "cell_type": "markdown",
   "metadata": {},
   "source": [
    "## Algo\n",
    "### Trouver les boxes qui contiennent les symboles DONE\n",
    "En analysant le background.\n",
    "### Lister les boxes qui sont couvertes par le robot DONE\n",
    "La première box sera de type **numéro**, la 2ème de type **opérateur**, etc.\n",
    "### Analyser le contenu des boxes Albéric\n",
    "Par MLP entraitné sur MNIST avec rotation. Par d'autres types de descriptors pour les opérateurs."
   ]
  },
  {
   "cell_type": "code",
   "execution_count": null,
   "metadata": {},
   "outputs": [],
   "source": [
    "# Si mask area mask[bb_corners] == 1, tout couvert\n",
    "def covered(mask, bbox):\n",
    "    answer = False\n",
    "    for r in [bbox[0], bbox[2]]:\n",
    "        for c in [bbox[1], bbox[3]]:\n",
    "            answer = answer or mask[r, c]\n",
    "    if(answer and False):\n",
    "        print(r,c)\n",
    "    return answer"
   ]
  },
  {
   "cell_type": "code",
   "execution_count": null,
   "metadata": {},
   "outputs": [],
   "source": [
    "from skimage import color\n",
    "from skimage.filters import threshold_otsu\n",
    "from skimage.morphology import binary_opening, binary_closing, binary_erosion, binary_dilation, disk, label\n",
    "from skimage.measure import regionprops\n",
    "import matplotlib.patches as mpatches\n",
    "\n",
    "bk_g = color.rgb2gray(background) #background gray\n",
    "bk_b = np.where(color.rgb2gray(bk_g) < threshold_otsu(bk_g), 1, 0) #background binary\n",
    "bk_bb = binary_dilation(bk_b, disk(3)) #background with consolidated objects\n",
    "bk_bb_label = label(bk_bb) #Labelise\n",
    "bk_bb_regionprops = regionprops(bk_bb_label) #Measure the image\n",
    "fig, ax = plt.subplots(figsize=(10, 10))\n",
    "ax.imshow(bk_g, cmap='gray')\n",
    "valid_boxes = [] #Keep the regionprops we wanted\n",
    "for b in bk_bb_regionprops:\n",
    "    if(b.bbox_area>50 and b.bbox_area < 700): #If the bounding box is bigger than 50 and smaller than 700, it's a sign\n",
    "        valid_boxes.append(b)\n",
    "        minr, minc, maxr, maxc = b.bbox\n",
    "        rect = mpatches.Rectangle((minc, minr), maxc - minc, maxr - minr,\n",
    "                                  fill=False, edgecolor='red', linewidth=1)\n",
    "        ax.add_patch(rect)\n"
   ]
  },
  {
   "cell_type": "code",
   "execution_count": null,
   "metadata": {
    "scrolled": false
   },
   "outputs": [],
   "source": [
    "#print(trajectory_mask[0].shape)\n",
    "used_bb=dict()\n",
    "for i, tm in enumerate(trajectory_mask):\n",
    "    for bb in valid_boxes:\n",
    "        if(covered(tm[:,:,0], bb.bbox)): #If the bounding box is covered\n",
    "            if(bb not in used_bb.values()):#Add it to the list of used bounding boxes\n",
    "                used_bb[i] = bb\n",
    "fig, ax = plt.subplots(figsize=(20, 20))\n",
    "ax.imshow(bk_g, cmap='gray')\n",
    "for i, bb in enumerate(used_bb):\n",
    "    minr, minc, maxr, maxc = used_bb[bb].bbox\n",
    "    rect = mpatches.Rectangle((minc, minr), maxc - minc, maxr - minr,\n",
    "                              fill=False, edgecolor='red', linewidth=1)\n",
    "    if(i%2==0):\n",
    "        ax.text(maxc,maxr, '{}:number@frame:{}'.format(i, bb))\n",
    "    else:\n",
    "        ax.text(maxc,maxr, '{}:operator@frame:{}'.format(i, bb))\n",
    "    ax.text(maxc,maxr, i)\n",
    "    ax.add_patch(rect)\n",
    "plt.show()"
   ]
  },
  {
   "cell_type": "code",
   "execution_count": null,
   "metadata": {},
   "outputs": [],
   "source": [
    "import matplotlib.animation as animation\n",
    "import matplotlib as mpl\n",
    "def ani_frame(frames_list, positions, equation, valid_boxes, used_bb):\n",
    "    positions=np.asarray(positions)\n",
    "    mpl.rcParams['savefig.pad_inches'] = 0\n",
    "    fig = plt.figure( frameon=False)\n",
    "    ax = plt.axes([0,0,1,1], frameon=False)\n",
    "    ax.set_aspect('auto')\n",
    "    ax.get_xaxis().set_visible(False)\n",
    "    ax.get_yaxis().set_visible(False)\n",
    "    plt.autoscale(tight=True)\n",
    "    fig.set_size_inches((vid.frame_shape[1]/100, vid.frame_shape[0]/100))\n",
    "\n",
    "    for bb in valid_boxes:# Plot the valide boxes.\n",
    "        minr, minc, maxr, maxc = bb.bbox\n",
    "        rect = mpatches.Rectangle((minc, minr), maxc - minc, maxr - minr,\n",
    "                                  fill=False, edgecolor='blue', alpha=0.5, linewidth=1)\n",
    "        ax.add_patch(rect)\n",
    "    time_im = ax.imshow(frames_list[0])\n",
    "    props = dict(boxstyle='round', facecolor='wheat', alpha=0.5)\n",
    "    time_frame_number = ax.text(10,26, 'Frame nº{:02d}'.format(0), fontsize=12, bbox=props)\n",
    "    time_positions, = ax.plot([], [], ls='--', marker='o', markersize=12, color='r', lw=1, alpha=0.5, fillstyle='none')\n",
    "    time_equation = ax.text(10, frames_list[0].shape[0]-20, '', fontsize=12, bbox=props)\n",
    "    def update_img(n):\n",
    "        time_im.set_data(frames_list[n])\n",
    "        time_positions.set_data(positions[0:n+1,1], positions[0:n+1,0])\n",
    "        time_frame_number.set_text('Frame nº{:02d}'.format(n))\n",
    "        time_equation.set_text('Eq: {}'.format(equation[n]))\n",
    "        if n in used_bb.keys():\n",
    "            minr, minc, maxr, maxc = used_bb[n].bbox\n",
    "            rect = mpatches.Rectangle((minc, minr), maxc - minc, maxr - minr,\n",
    "                                      fill=False, edgecolor='red', alpha=1, linewidth=1)\n",
    "            ax.add_patch(rect)\n",
    "        return time_im\n",
    "    #legend(loc=0)\n",
    "    ani = animation.FuncAnimation(fig,update_img,range(len(frames_list)))\n",
    "    writer = animation.writers['ffmpeg'](fps=vid.frame_rate)\n",
    "    ani.save('hidden_background.mp4',writer=writer,dpi=100)\n",
    "    return ani"
   ]
  },
  {
   "cell_type": "code",
   "execution_count": null,
   "metadata": {},
   "outputs": [],
   "source": [
    "positions=[t.centroid for t in trajectory]\n",
    "equation=[str(i) for i, f in enumerate(vid)]#Remove this\n",
    "ani_frame(vid, positions=positions, equation=equation, valid_boxes=valid_boxes, used_bb=used_bb)\n",
    "vidi = pims.open(\"hidden_background.mp4\")\n",
    "print(vidi)"
   ]
  },
  {
   "cell_type": "code",
   "execution_count": null,
   "metadata": {},
   "outputs": [],
   "source": []
  }
 ],
 "metadata": {
  "kernelspec": {
   "display_name": "Python 3",
   "language": "python",
   "name": "python3"
  },
  "language_info": {
   "codemirror_mode": {
    "name": "ipython",
    "version": 3
   },
   "file_extension": ".py",
   "mimetype": "text/x-python",
   "name": "python",
   "nbconvert_exporter": "python",
   "pygments_lexer": "ipython3",
   "version": "3.7.4"
  }
 },
 "nbformat": 4,
 "nbformat_minor": 2
}

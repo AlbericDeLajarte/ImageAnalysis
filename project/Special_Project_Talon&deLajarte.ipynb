{
 "cells": [
  {
   "cell_type": "markdown",
   "metadata": {},
   "source": [
    "# [IAPR 2020:][iapr2020] Project ‒ Special Project¶\n",
    "**Author:** Quentin Talon & Albéric de Lajarte  \n",
    "**Due date:** 28.05.2020  \n",
    "[iapr2018]: https://github.com/LTS5/iapr-2020\n",
    "\n",
    "## Extract datas"
   ]
  },
  {
   "cell_type": "code",
   "execution_count": null,
   "metadata": {
    "scrolled": false
   },
   "outputs": [],
   "source": [
    "import os\n",
    "import numpy as np\n",
    "import matplotlib.pyplot as plt\n",
    "import pims\n",
    "\n",
    "data_base_path = os.path.join(os.pardir, 'data')\n",
    "vid = pims.open(os.path.join(data_base_path, 'robot_parcours_1.avi'))\n",
    "plt.figure(figsize = (10,10))\n",
    "plt.imshow(vid[0])\n",
    "print(vid)"
   ]
  },
  {
   "cell_type": "markdown",
   "metadata": {},
   "source": [
    "## Part 1: Still and moving image segmentation"
   ]
  },
  {
   "cell_type": "markdown",
   "metadata": {},
   "source": [
    "### Background\n",
    "We simply calculate the mean along all the images. This reduces the noise and removes the moving object."
   ]
  },
  {
   "cell_type": "code",
   "execution_count": null,
   "metadata": {},
   "outputs": [],
   "source": [
    "vid_stack = np.stack(vid, axis=0)\n",
    "print(\"Shape of vid_stack:{}\".format(vid_stack.shape))\n",
    "background = np.median(vid_stack, axis=0).astype(int)\n",
    "print(\"Shape of background:{}\".format(background.shape))\n",
    "plt.figure(figsize = (20,20))\n",
    "plt.imshow(background)\n",
    "plt.show()"
   ]
  },
  {
   "cell_type": "markdown",
   "metadata": {},
   "source": [
    "### Moving part\n",
    "This is simply a difference of image and the backgound. We look at the red channel and calculate it's center of mass."
   ]
  },
  {
   "cell_type": "code",
   "execution_count": null,
   "metadata": {},
   "outputs": [],
   "source": [
    "#Few tests.\n",
    "from skimage.morphology import binary_opening, binary_closing, disk\n",
    "from skimage.measure import regionprops\n",
    "from scipy.ndimage.measurements import center_of_mass\n",
    "red_threshold = 80#How to choose it ???\n",
    "fig, ax = plt.subplots(1,2, figsize=(20,10))\n",
    "red_dif = abs(vid[10] - background)[:,:,2]\n",
    "foo = np.where(red_dif>red_threshold, 1, 0)\n",
    "#foo = binary_opening(foo, selem=disk(2))\n",
    "#foo = binary_closing(foo, selem=disk(2))\n",
    "ax[0].imshow(red_dif)\n",
    "ax[0].set_title(\"Red dif\")\n",
    "ax[1].imshow(foo)\n",
    "ax[1].set_title(\"After binary operations, center of mass at:({:03.03f},{:03.03f})\".format(*center_of_mass(foo)))\n",
    "plt.show()"
   ]
  },
  {
   "cell_type": "code",
   "execution_count": null,
   "metadata": {},
   "outputs": [],
   "source": [
    "trajectory = [center_of_mass(np.where(abs(v - background)[:,:,2]>red_threshold, 1, 0)) for v in vid]\n",
    "plt.figure(figsize=(20,20))\n",
    "plt.imshow(background)\n",
    "for i, point in enumerate(trajectory):\n",
    "    plt.plot(point[1], point[0], markeredgecolor='r', marker='x', markersize=20, markeredgewidth=5)\n",
    "    plt.text(point[1]+10, point[0], \"Frame#{}\".format(i))\n",
    "plt.text(100,400, \"We can write our equation here\", size=20, color='b')\n",
    "plt.show()"
   ]
  },
  {
   "cell_type": "markdown",
   "metadata": {},
   "source": [
    "## What to do now ?"
   ]
  },
  {
   "cell_type": "code",
   "execution_count": null,
   "metadata": {},
   "outputs": [],
   "source": [
    "from skimage.measure import label\n",
    "foo = np.all(np.where(background<150, 1, 0).astype(float), axis=2)#How to choose the treshold ?\n",
    "foo = label(foo)\n",
    "print(foo.shape)\n",
    "plt.figure(figsize=(20,20))\n",
    "plt.imshow(foo)"
   ]
  },
  {
   "cell_type": "code",
   "execution_count": null,
   "metadata": {},
   "outputs": [],
   "source": []
  }
 ],
 "metadata": {
  "kernelspec": {
   "display_name": "Python 3",
   "language": "python",
   "name": "python3"
  },
  "language_info": {
   "codemirror_mode": {
    "name": "ipython",
    "version": 3
   },
   "file_extension": ".py",
   "mimetype": "text/x-python",
   "name": "python",
   "nbconvert_exporter": "python",
   "pygments_lexer": "ipython3",
   "version": "3.7.4"
  }
 },
 "nbformat": 4,
 "nbformat_minor": 2
}

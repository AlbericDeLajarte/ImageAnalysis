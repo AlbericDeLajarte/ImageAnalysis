{
 "cells": [
  {
   "cell_type": "markdown",
   "metadata": {},
   "source": [
    "# [IAPR 2020:][iapr2020] Lab 1 ‒  Image segmentation\n",
    "\n",
    "**Author:** Quentin Talon, Albéric de Lajarte, Zeno Messi\n",
    "**Due date:** 26.03.2020\n",
    "\n",
    "[iapr2018]: https://github.com/LTS5/iapr-2020"
   ]
  },
  {
   "cell_type": "markdown",
   "metadata": {},
   "source": [
    "## Extract relevant data\n",
    "We first need to extract the `lab-01-data.tar.gz` archive.\n",
    "To this end, we use the [tarfile] module from the Python standard library.\n",
    "\n",
    "[tarfile]: https://docs.python.org/3.6/library/tarfile.html"
   ]
  },
  {
   "cell_type": "code",
   "execution_count": null,
   "metadata": {},
   "outputs": [],
   "source": [
    "import tarfile\n",
    "import os\n",
    "\n",
    "data_base_path = os.path.join(os.pardir, 'data')\n",
    "data_folder = 'lab-01-data'\n",
    "tar_path = os.path.join(data_base_path, data_folder + '.tar.gz')\n",
    "with tarfile.open(tar_path, mode='r:gz') as tar:\n",
    "    tar.extractall(path=data_base_path)"
   ]
  },
  {
   "cell_type": "markdown",
   "metadata": {},
   "source": [
    "## Part 1: Brain segmentation\n",
    "\n",
    "Your goal: compute the size of the brain (in pixels) in a 2D image of a human head taken by Magnetic Resonance Imaging (MRI).\n",
    "* Try as many methods as you can, the more the better.\n",
    "* At least region growing and contour detection."
   ]
  },
  {
   "cell_type": "markdown",
   "metadata": {},
   "source": [
    "### 1.1 Brain image visualization"
   ]
  },
  {
   "cell_type": "code",
   "execution_count": null,
   "metadata": {},
   "outputs": [],
   "source": [
    "import skimage.io\n",
    "import matplotlib.pyplot as plt\n",
    "from skimage import exposure\n",
    "import numpy as np\n",
    "%matplotlib inline\n",
    "\n",
    "# Load image\n",
    "data_path = os.path.join(data_base_path, data_folder)\n",
    "brain_im = skimage.io.imread(os.path.join(data_path, 'brain-slice40.tiff'))\n",
    "im_h, im_w = brain_im.shape\n",
    "\n",
    "fig, ([ax1, ax2], [ax3, ax4]) = plt.subplots(2, 2, figsize=(12, 6))\n",
    "ax1.imshow(brain_im, cmap='gray')\n",
    "ax2.imshow(exposure.equalize_hist(brain_im), cmap='gray')\n",
    "ax1.set_title('MRI brain image ({} px, {} px)'.format(im_h, im_w))\n",
    "ax2.set_title('MRI brain image ({} px, {} px), w hist equalization'.format(im_h, im_w))\n",
    "ax1.axis('off')\n",
    "ax2.axis('off')\n",
    "ax3.hist(x=brain_im.ravel(), bins='auto')\n",
    "ax3.set_xlabel(\"pixel value\"); ax3.set_ylabel(\"occurences\")\n",
    "ax4.hist(x=exposure.equalize_hist(brain_im).ravel(), bins='auto')\n",
    "ax4.set_xlabel(\"pixel value\"); ax3.set_ylabel(\"occurences\")\n",
    "plt.show()"
   ]
  },
  {
   "cell_type": "markdown",
   "metadata": {},
   "source": [
    "### 1.2 Region growing\n",
    "We can't guess what a brain is. Thus, we want to get a region of interest at some value. Lets use (101, 138) (Use %matplotlib ipympl to have the coordinates shown in the notebook)."
   ]
  },
  {
   "cell_type": "code",
   "execution_count": null,
   "metadata": {},
   "outputs": [],
   "source": [
    "print('Value at (101, 138) = {}'.format(brain_im[101,138]))"
   ]
  },
  {
   "cell_type": "markdown",
   "metadata": {},
   "source": [
    "We then manually select the boundaries of pixel values of what the brain might be."
   ]
  },
  {
   "cell_type": "code",
   "execution_count": null,
   "metadata": {},
   "outputs": [],
   "source": [
    "brain_im_bin=np.where((brain_im>60) & (brain_im<95),1,0)\n",
    "plt.imshow(brain_im_bin, cmap='gray')\n",
    "plt.show()"
   ]
  },
  {
   "cell_type": "markdown",
   "metadata": {},
   "source": [
    "Depth-First Search algorithm"
   ]
  },
  {
   "cell_type": "code",
   "execution_count": null,
   "metadata": {},
   "outputs": [],
   "source": [
    "def DFS(G, s):\n",
    "    G[s[0], s[1]] = -1\n",
    "    for t in [[s[0]+i,s[1]+j] for i,j in [[1,0], [0,1], [-1,0], [0,-1]]]: #4 neighbour\n",
    "        try:#Dirty way of avoiding error of out of array\n",
    "            if G[t[0], t[1]] == 1:#The region have a value of 1\n",
    "                DFS(G, t)\n",
    "        except:\n",
    "            continue"
   ]
  },
  {
   "cell_type": "code",
   "execution_count": null,
   "metadata": {},
   "outputs": [],
   "source": [
    "import sys\n",
    "sys.setrecursionlimit(im_h*im_w)#To be able to go deep enough\n",
    "\n",
    "seeds = [[101, 138]]\n",
    "for s in seeds:\n",
    "    brain_im_bin=np.where((brain_im>60) & (brain_im<95),1,0)#As we change the argument of explorer()\n",
    "    DFS(G=brain_im_bin,s=s)\n",
    "    my_brain = brain_im_bin == -1 #Have to be the value set in DFS\n",
    "    size = np.count_nonzero(my_brain)#Look for True values in my_brain and count them\n",
    "    plt.imshow(my_brain, cmap='gray')\n",
    "    plt.title(\"Brain size is {} px, with seed at ({}, {})\".format(size, s[0], s[1]))\n",
    "    plt.show()"
   ]
  },
  {
   "cell_type": "markdown",
   "metadata": {},
   "source": [
    "It could also be possible to map every connected surface and choose the largest one."
   ]
  },
  {
   "cell_type": "markdown",
   "metadata": {},
   "source": [
    "### 1.3 Contour detection\n",
    "Add your implementation and discussion"
   ]
  },
  {
   "cell_type": "markdown",
   "metadata": {},
   "source": [
    "### 1.4 Additional method(s)\n",
    "Add your implementation and discussion"
   ]
  },
  {
   "cell_type": "code",
   "execution_count": null,
   "metadata": {},
   "outputs": [],
   "source": [
    "from scipy import ndimage as ndi\n",
    "from skimage.filters import roberts, sobel, scharr, prewitt\n",
    "from skimage.segmentation import watershed\n",
    "\n",
    "#brain_edge = ndi.gaussian_laplace(brain_im_bin, sigma=0.5).astype(np.float64)\n",
    "brain_edge = prewitt(brain_im_bin)\n",
    "\n",
    "markers = np.zeros_like(brain_edge)\n",
    "markers[brain_im_bin < 30] = 1\n",
    "markers[brain_im_bin > 200] = 2\n",
    "\n",
    "segmentation = watershed(brain_edge, markers)\n",
    "segmentation = ndi.binary_fill_holes(segmentation - 1, structure=np.ones((10,10)))\n",
    "labeled_brain, _ = ndi.label(segmentation)\n",
    "\n",
    "#labeled_brain[(labeled_brain>150) & (labeled_brain<200)] = 200\n",
    "labeled_brain[labeled_brain != 151] = 0\n",
    "labeled_brain[labeled_brain == 151] = 1\n",
    "\n",
    "fig, [ax1, ax2] = plt.subplots(1, 2, figsize=(12, 12))\n",
    "ax1.imshow(brain_edge, cmap='gray')\n",
    "ax2.imshow(labeled_brain)\n",
    "\n",
    "plt.show\n",
    "\n",
    "100*np.sum(labeled_brain)/labeled_brain.size\n",
    "np.sum(labeled_brain)"
   ]
  },
  {
   "cell_type": "markdown",
   "metadata": {},
   "source": [
    "## Part 2: Shape/color segmentation\n",
    "\n",
    "You will find hereafter three pictures taken under three different illuminations, containing some shapes with different colors. We ask you to create a routine to:\n",
    "\n",
    "1. Count the number of shapes of each color.\n",
    "2. Compute the total area (in pixels) of each color.\n",
    "\n",
    "Please note that one specific challenge is to be robust to illumination changes. Therefore some kind of intensity normalization should probably be used.\n",
    "\n",
    "**Note:** the routine(s) that you will write for this exercise will be useful for the final project as well, so pay special attention to it."
   ]
  },
  {
   "cell_type": "markdown",
   "metadata": {},
   "source": [
    "### 2.1 Visualization"
   ]
  },
  {
   "cell_type": "code",
   "execution_count": null,
   "metadata": {},
   "outputs": [],
   "source": [
    "# Load images\n",
    "im_names = ['arena-shapes-01', 'arena-shapes-02', 'arena-shapes-03']\n",
    "filenames = [os.path.join(data_path, name) + '.png' for name in im_names]\n",
    "ic = skimage.io.imread_collection(filenames)\n",
    "images = skimage.io.concatenate_images(ic)\n",
    "print('Number of images: ', images.shape[0])\n",
    "print('Image size: {}, {} '.format(images.shape[1], images.shape[2]))\n",
    "print('Number of color channels: ', images.shape[-1])"
   ]
  },
  {
   "cell_type": "code",
   "execution_count": null,
   "metadata": {},
   "outputs": [],
   "source": [
    "# Plot images\n",
    "fig, axes = plt.subplots(1, 3, figsize=(18, 12))\n",
    "for ax, im, nm in zip(axes.ravel(), images, im_names):\n",
    "    ax.imshow(im)\n",
    "    ax.axis('off')\n",
    "    ax.set_title(nm)\n",
    "plt.show()"
   ]
  },
  {
   "cell_type": "markdown",
   "metadata": {},
   "source": [
    "### 2.2 Number of shapes of each color\n",
    "#### Get the image separated by color\n",
    "Which method ?"
   ]
  },
  {
   "cell_type": "code",
   "execution_count": null,
   "metadata": {
    "scrolled": true
   },
   "outputs": [],
   "source": [
    "from mpl_toolkits.mplot3d import Axes3D\n",
    "import cv2\n",
    "import scipy.ndimage.morphology as morph\n",
    "from skimage.measure import label, regionprops\n",
    "\n",
    "#img = images[0]\n",
    "K = 3 #\n",
    "for i, img_original in enumerate(images):\n",
    "    img = img_original\n",
    "    #img = cv2.cvtColor(img_original, cv2.COLOR_BGR2RGB)\n",
    "    #img = cv2.cvtColor(img_original, cv2.COLOR_BGR2YUV)#One can try different vision\n",
    "    if False:\n",
    "        r, g, b = cv2.split(img)\n",
    "        r = r.flatten()\n",
    "        g = g.flatten()\n",
    "        b = b.flatten()\n",
    "        #plotting\n",
    "        fig = plt.figure()\n",
    "        ax = Axes3D(fig)\n",
    "        ax.scatter(r, g, b)\n",
    "        plt.show()\n",
    "    #----------\n",
    "    vectorized = np.float32(img.reshape((-1,3)))\n",
    "    criteria = (cv2.TERM_CRITERIA_EPS + cv2.TERM_CRITERIA_MAX_ITER, 10, 1.0)\n",
    "    attempts=10\n",
    "    ret,labels,center=cv2.kmeans(vectorized,K,None,criteria,attempts,cv2.KMEANS_PP_CENTERS)\n",
    "    center = np.uint8(center)\n",
    "    res = center[labels.flatten()]\n",
    "    result_image = res.reshape((img.shape))\n",
    "    #-------------\n",
    "    figure_size = 18\n",
    "    plt.figure(figsize=(figure_size,figure_size))#Original\n",
    "    plt.subplot(1,2,1),plt.imshow(img_original)\n",
    "    plt.title('Original Image nº{}'.format(i+1)), plt.xticks([]), plt.yticks([])\n",
    "    plt.subplot(1,2,2),plt.imshow( result_image)\n",
    "    plt.title('Image nº{} when K = {}'.format(i+1, K)), plt.xticks([]), plt.yticks([])\n",
    "    fig, axes = plt.subplots(1,K, figsize=(18,8))\n",
    "    for c, ax in zip(center, axes):#c is a color\n",
    "        f = np.where((result_image[:,:,0] == c[0]) & (result_image[:,:,1] == c[1]) & (result_image[:,:,2] == c[2]), 1, 0) \n",
    "        f = morph.binary_opening(f, np.ones((1,1)))#Remove small ones (not so robust)\n",
    "        f = morph.binary_dilation(f, np.ones((1,1)))#Make big ones bigger (not so robust)\n",
    "        ax.imshow(f, cmap=\"gray\")\n",
    "        ax.set_title(\"img nº{}, color {}, {} pixels, {} obj\".format(i+1, c, np.count_nonzero(f), np.amax(label(f))))\n",
    "        ax.set_xticks([]), ax.set_yticks([])#ax.axis('off')\n",
    "    plt.savefig(\"Image_{}.png\".format(i))\n",
    "    plt.show()\n"
   ]
  },
  {
   "cell_type": "markdown",
   "metadata": {},
   "source": [
    "Now we have images with 3 colors. Changing the number of color (K) could be implemeted too.\n",
    "We can do a region growing, count the size of each region, make an histogram of these sizes and take the highest group in these."
   ]
  },
  {
   "cell_type": "markdown",
   "metadata": {},
   "source": [
    "### Description of our algorithm\n",
    "#### \n",
    "We have chosen to fix $K=3$ here in the code as we have only 3 colors to match. If the \"real\" problem is kept with a known number of color, this is the best choice. Otherwhise it is possible to search the right number of colors. This finding of number of colors would be less robust than giving a fixed value."
   ]
  },
  {
   "cell_type": "markdown",
   "metadata": {},
   "source": [
    "### 2.3 Total area (in pixels) of each color"
   ]
  },
  {
   "cell_type": "markdown",
   "metadata": {},
   "source": [
    "It is implemented in the section 2.2"
   ]
  },
  {
   "cell_type": "code",
   "execution_count": null,
   "metadata": {},
   "outputs": [],
   "source": [
    "#test"
   ]
  }
 ],
 "metadata": {
  "kernelspec": {
   "display_name": "Python 3",
   "language": "python",
   "name": "python3"
  },
  "language_info": {
   "codemirror_mode": {
    "name": "ipython",
    "version": 3
   },
   "file_extension": ".py",
   "mimetype": "text/x-python",
   "name": "python",
   "nbconvert_exporter": "python",
   "pygments_lexer": "ipython3",
   "version": "3.7.2"
  }
 },
 "nbformat": 4,
 "nbformat_minor": 4
}

{
 "cells": [
  {
   "cell_type": "markdown",
   "metadata": {},
   "source": [
    "# [IAPR 2020:][iapr2020] Lab 2 ‒  Object description\n",
    "\n",
    "**Authors:** Quentin Talon, Albéric De Lajarte \n",
    "**Due date:** 24.04.2020\n",
    "\n",
    "[iapr2020]: https://github.com/LTS5/iapr-2020"
   ]
  },
  {
   "cell_type": "markdown",
   "metadata": {},
   "source": [
    "## Extract relevant data\n",
    "We first need to extract the `lab-02-data.tar.gz` archive.\n",
    "To this end, we use the [tarfile] module from the Python standard library.\n",
    "\n",
    "[tarfile]: https://docs.python.org/3.6/library/tarfile.html"
   ]
  },
  {
   "cell_type": "code",
   "execution_count": null,
   "metadata": {},
   "outputs": [],
   "source": [
    "import tarfile\n",
    "import os\n",
    "\n",
    "data_base_path = os.path.join(os.pardir, 'data')\n",
    "data_folder = 'lab-02-data'\n",
    "tar_path = os.path.join(data_base_path, data_folder + '.tar.gz')\n",
    "with tarfile.open(tar_path, mode='r:gz') as tar:\n",
    "    tar.extractall(path=data_base_path)"
   ]
  },
  {
   "cell_type": "markdown",
   "metadata": {},
   "source": [
    "## Part 1\n",
    "In the `lab-02-data/part1` folder, you will find 28x28 grey-scale pictures of handwritten \"0\" and \"1\".\n",
    "These digits have been extracted from MNIST dataset (http://yann.lecun.com/exdb/mnist/).\n",
    "\n",
    "Your goal is to extract, from each of those images, a 2-dimensional feature vector (i.e. 2 features) and to plot them all on a 2D graph.\n",
    "If you have chosen good features, the vectors of the \"0\"'s should nicely cluster in one part of the plane and those of the \"1\"'s in another.\n",
    "\n",
    "Please try first the Fourier Descriptors.\n",
    "You can make several attempts: e.g. with and without invariance to rotation, translation, scaling, etc.\n",
    "You can also for instance rotate the images and assess the invariance in rotation.\n",
    "\n",
    "**Note:** for the Fourier descriptors, the u_k signal has to be constructed by following the contour point after point.\n",
    "Some pre-processing (image binarization, possibly some Mathematical Morphology) might be useful.\n",
    "\n",
    "Then feel free to try other features, the more you try, the better it will be (for you)."
   ]
  },
  {
   "cell_type": "markdown",
   "metadata": {},
   "source": [
    "### 1.1 Data visualization"
   ]
  },
  {
   "cell_type": "code",
   "execution_count": null,
   "metadata": {},
   "outputs": [],
   "source": [
    "import skimage.io\n",
    "import matplotlib.pyplot as plt\n",
    "%matplotlib inline\n",
    "\n",
    "# Load images\n",
    "data_base_path = os.path.join(os.pardir, 'data')\n",
    "data_folder = 'lab-02-data'\n",
    "#  Load zeros\n",
    "zeros_path = os.path.join(data_base_path, data_folder, 'part1', '0')\n",
    "zeros_names = [nm for nm in os.listdir(zeros_path) if '.png' in nm]  # make sure to only load .png\n",
    "zeros_names.sort()  # sort file names\n",
    "ic = skimage.io.imread_collection([os.path.join(zeros_path, nm) for nm in zeros_names])\n",
    "zeros_im = skimage.io.concatenate_images(ic)\n",
    "#  Load ones\n",
    "ones_path = os.path.join(data_base_path, data_folder, 'part1', '1')\n",
    "ones_names = [nm for nm in os.listdir(ones_path) if '.png' in nm]  # make sure to only load .png\n",
    "ones_names.sort()  # sort file names\n",
    "ic = skimage.io.imread_collection(([os.path.join(ones_path, nm) for nm in ones_names]))\n",
    "ones_im = skimage.io.concatenate_images(ic)\n",
    "\n",
    "# Plot images\n",
    "fig, axes = plt.subplots(2, len(zeros_im), figsize=(12, 3))\n",
    "for ax, im, nm in zip(axes[0], zeros_im, zeros_names):\n",
    "    ax.imshow(im, cmap='gray')\n",
    "    ax.axis('off')\n",
    "    ax.set_title(nm)\n",
    "for ax, im, nm in zip(axes[1], ones_im, ones_names):\n",
    "    ax.imshow(im, cmap='gray')\n",
    "    ax.axis('off')\n",
    "    ax.set_title(nm)"
   ]
  },
  {
   "cell_type": "markdown",
   "metadata": {},
   "source": [
    "### 1.2.1 Fourier descriptor\n",
    "- We find a contour description of our object\n",
    "- We create a vector containing it's (x,y) coordinates in form of (x+jy)\n",
    "- We perform a Fourier Transform via the fft algorithm on our vector\n",
    "- We select the Fourier coefficiants we want\n",
    "- We show the amplitudes of a descriptor couple for *ones* and *zeros*\n",
    "\n",
    "#### Why the amplitude ?\n",
    "The Fourier transform is sensible to where we start the description of a loop.\n",
    "$$ \n",
    "f_l = \\sum_{k}x_k e^{-2\\pi j\\color{red}{k}l/N}\n",
    "$$\n",
    "It will change each $f_l$ phase. We can change the DFT to something that is independant of the starting description point OR look at the amplitude only."
   ]
  },
  {
   "cell_type": "code",
   "execution_count": null,
   "metadata": {
    "scrolled": false
   },
   "outputs": [],
   "source": [
    "import numpy as np\n",
    "import matplotlib.pyplot as plt\n",
    "from scipy import ndimage\n",
    "from skimage.color import rgb2gray\n",
    "from skimage import data\n",
    "from skimage.filters import gaussian\n",
    "from skimage.measure import find_contours\n",
    "from skimage.segmentation import active_contour\n",
    "from scipy import ndimage\n",
    "\n",
    "zeros_contour = []\n",
    "ones_contour = []\n",
    "\n",
    "fig, axes = plt.subplots(2, len(zeros_im), figsize=(20, 5))\n",
    "for ax, im, nm, k in zip(axes[0], zeros_im, zeros_names, np.arange(0, zeros_im.shape[0]) ):\n",
    "    ax.imshow(im, cmap='gray')\n",
    "    zeros_contour.append(find_contours(im, 10)[0])\n",
    "    ax.plot(zeros_contour[k][:, 1], zeros_contour[k][:, 0], '-b', lw=3)\n",
    "    ax.axis('off')\n",
    "    ax.set_title(nm)\n",
    "    \n",
    "for ax, im, nm, k in zip(axes[1], ones_im, ones_names, np.arange(0, zeros_im.shape[0])):\n",
    "    ax.imshow(im, cmap='gray')\n",
    "    ones_contour.append(find_contours(im, 10)[0])\n",
    "    ax.plot(ones_contour[k][:, 1], ones_contour[k][:, 0], '-b', lw=3)\n",
    "    ax.axis('off')\n",
    "    ax.set_title(nm)"
   ]
  },
  {
   "cell_type": "code",
   "execution_count": null,
   "metadata": {
    "scrolled": false
   },
   "outputs": [],
   "source": [
    "#plt.imshow(np.where(ones_im[0] > 0.8, 1, 0))\n",
    "desc = np.array([0, 1, 2, 3]) #Which values from the Fourier Transform we want to keep\n",
    "\n",
    "ones_complex = [[np.complex(x[1], x[0]) for x in X] for X in ones_contour[0:10]]\n",
    "ones_FFT = [np.fft.fft(x)[desc] for x in ones_complex]\n",
    "\n",
    "zeros_complex = [[np.complex(x[1], x[0]) for x in X] for X in zeros_contour[0:10]]\n",
    "zeros_FFT = [np.fft.fft(x)[desc] for x in zeros_complex]\n",
    "\n",
    "fig, axes = plt.subplots(len(desc), len(desc), figsize=(16, 16))#quadrillage de plot\n",
    "\n",
    "for i, (di, axi) in enumerate(zip(desc, axes)):\n",
    "    axi[0].set_ylabel(\"$A_{}$\".format(di))\n",
    "    for j, (dj, ax) in enumerate(zip(desc, axi)) :\n",
    "        if(i == 0):\n",
    "            ax.set_xlabel(\"$A_{}$\".format(dj))\n",
    "            ax.xaxis.set_label_position('top')\n",
    "            #ax.xaxis.set_ticks_position('top')\n",
    "        X = [abs(vec[i]) for vec in ones_FFT]\n",
    "        Y = [abs(vec[j]) for vec in ones_FFT]\n",
    "        ax.scatter(X,Y, color='red', marker=\"o\", label = \"zeros\")\n",
    "    \n",
    "        X = [abs(vec[i]) for vec in zeros_FFT]\n",
    "        Y = [abs(vec[j]) for vec in zeros_FFT]\n",
    "        ax.scatter(X,Y, color='blue', marker=\"^\", label = \"ones\")\n",
    "    \n",
    "        #ax.set_xlabel(\"$A_{}$\".format(di))\n",
    "        #ax.set_ylabel(\"$A_{}$\".format(dj))\n",
    "        ax.legend()\n",
    "plt.show()"
   ]
  },
  {
   "cell_type": "markdown",
   "metadata": {},
   "source": [
    "From this matrix, we see few thigs :\n",
    "- Only one descriptor is not enough\n",
    "- **TODO**"
   ]
  },
  {
   "cell_type": "markdown",
   "metadata": {},
   "source": [
    "### 1.3 Additional method(s)\n",
    "Add your implementation and discussion"
   ]
  },
  {
   "cell_type": "markdown",
   "metadata": {},
   "source": [
    "#### 1.3.1 Fourier descriptor via binary image\n",
    "- We simply create a binary image by setting an arbitrary treshold.\n",
    "- We create a vector containing the (x,y) coordinates in form of (x+jy)\n",
    "- We perform a Fourier Transform via the fft algorithm on our vector\n",
    "- We select the Fourier coefficiants we want\n",
    "- We show the real and imaginary parts of these Fourier coef. for *ones* and *zeros*"
   ]
  },
  {
   "cell_type": "code",
   "execution_count": null,
   "metadata": {},
   "outputs": [],
   "source": [
    "desc = [0, 1, 2, 3] #Which values from the Fourier Transform we want to keep\n",
    "th=0.8 #Stupid treshold to get Binary image.\n",
    "\n",
    "vecones_fd = [np.fft.fft([np.complex(i,j) for i, l in enumerate(np.where(x > th, 1, 0)) for j, c in enumerate(l) if c > 0])[desc] for x in ones_im[0:11]]\n",
    "veczeros_fd = [np.fft.fft([np.complex(i,j) for i, l in enumerate(np.where(x > th, 1, 0)) for j, c in enumerate(l) if c > 0])[desc] for x in zeros_im[0:11]]\n",
    "\n",
    "fig, axes = plt.subplots(1, len(desc), figsize=(16, 16/len(desc)))\n",
    "for i, (d, ax) in enumerate(zip(desc, axes)):    \n",
    "    X = [vec[i].real for vec in veczeros_fd]\n",
    "    Y = [vec[i].imag for vec in veczeros_fd]\n",
    "    ax.scatter(X,Y, color='red', marker=\"o\", label = \"zeros\")\n",
    "    \n",
    "    X = [vec[i].real for vec in vecones_fd]\n",
    "    Y = [vec[i].imag for vec in vecones_fd]\n",
    "    ax.scatter(X,Y, color='blue', marker=\"^\", label = \"ones\")\n",
    "    \n",
    "    ax.set_xlabel(\"Real\")\n",
    "    ax.set_ylabel(\"Imaginary\")\n",
    "    ax.set_title(\"Fourier Descriptor #{}\".format(d))\n",
    "    ax.legend()\n",
    "plt.show()"
   ]
  },
  {
   "cell_type": "markdown",
   "metadata": {},
   "source": [
    "The result is nice as we see clusters separated and regularity in different clusters. It takes less calculus to create the image but more calculus to compute the Fourier transform."
   ]
  },
  {
   "cell_type": "markdown",
   "metadata": {},
   "source": [
    "#### 1.3.2 Fourier descriptor via grayscale image\n",
    "\n",
    "- We keep the grayscale image\n",
    "- We create a vector containing the (x,y) coordinates in form of image(x,y)*(x+jy)\n",
    "- We perform a Fourier Transform via the fft algorithm on our vector\n",
    "- We select the Fourier coefficiants we want\n",
    "- We show the real and imaginary parts of these Fourier coef. for *ones* and *zeros*"
   ]
  },
  {
   "cell_type": "code",
   "execution_count": null,
   "metadata": {},
   "outputs": [],
   "source": [
    "import numpy as np\n",
    "desc = [0, 1, 2, 3] #Which values from the Fourier Transform we want to keep\n",
    "\n",
    "vecones_fd_gray = [np.fft.fft([c*np.complex(i,j) for i, l in enumerate(x) for j, c in enumerate(l) if c > 0])[desc] for x in ones_im[0:11]]\n",
    "veczeros_fd_gray = [np.fft.fft([c*np.complex(i,j) for i, l in enumerate(x) for j, c in enumerate(l) if c > 0])[desc] for x in zeros_im[0:11]]\n",
    "\n",
    "fig, axes = plt.subplots(1, len(desc), figsize=(16, 16/len(desc)))\n",
    "for i, (d, ax) in enumerate(zip(desc, axes)):    \n",
    "    X = [vec[i].real for vec in veczeros_fd_gray]\n",
    "    Y = [vec[i].imag for vec in veczeros_fd_gray]\n",
    "    ax.scatter(X,Y, color='red', marker=\"o\", label = \"zeros\")\n",
    "    \n",
    "    X = [vec[i].real for vec in vecones_fd_gray]\n",
    "    Y = [vec[i].imag for vec in vecones_fd_gray]\n",
    "    ax.scatter(X,Y, color='blue', marker=\"^\", label = \"ones\")\n",
    "    \n",
    "    ax.set_xlabel(\"Real\")\n",
    "    ax.set_ylabel(\"Imaginary\")\n",
    "    ax.set_title(\"Fourier Descriptor gray_lvl #{}\".format(d))\n",
    "    ax.legend()\n",
    "plt.show()"
   ]
  },
  {
   "cell_type": "markdown",
   "metadata": {},
   "source": [
    "This was a bad idea since the beginning as multiplying the (x+iy) complex number by a value between 0 and 1 makes values an identical result as changing the coordinates. So we don't weight the descriptor, we change their meaning.\n",
    "\n",
    "As we have few low value pixels, it doesn't affect much the output."
   ]
  },
  {
   "cell_type": "markdown",
   "metadata": {},
   "source": [
    "#### 1.3.3 Invariences (Translation, Scale, Rotation, Mirror)\n",
    "**Translation**\n",
    "We add a fixed value to each element of the contours."
   ]
  },
  {
   "cell_type": "code",
   "execution_count": null,
   "metadata": {
    "scrolled": true
   },
   "outputs": [],
   "source": [
    "#plt.imshow(np.where(ones_im[0] > 0.8, 1, 0))\n",
    "desc = np.array([0, 1, 2]) #Which values from the Fourier Transform we want to keep\n",
    "\n",
    "ones_complex_special = [[x+np.complex(20,10) for x in one_complex] for one_complex in ones_complex]\n",
    "ones_FFT_special = [np.fft.fft(one_complex_special)[desc] for one_complex_special in ones_complex_special]\n",
    "\n",
    "zeros_complex_special = [[x+np.complex(20,10) for x in zeros_complex] for zeros_complex in zeros_complex]\n",
    "zeros_FFT_special = [np.fft.fft(zero_complex_special)[desc] for zero_complex_special in zeros_complex_special]\n",
    "\n",
    "fig, axes = plt.subplots(len(desc), len(desc), figsize=(16, 16))#quadrillage de plot\n",
    "\n",
    "for i, (di, axi) in enumerate(zip(desc, axes)):\n",
    "    axi[0].set_ylabel(\"$A_{}$\".format(di))\n",
    "    for j, (dj, ax) in enumerate(zip(desc, axi)) :\n",
    "        if(i == 0):\n",
    "            ax.set_xlabel(\"$A_{}$\".format(dj))\n",
    "            ax.xaxis.set_label_position('top')\n",
    "            #ax.xaxis.set_ticks_position('top')\n",
    "        X = [abs(vec[i]) for vec in ones_FFT]\n",
    "        Y = [abs(vec[j]) for vec in ones_FFT]\n",
    "        ax.scatter(X,Y, color='red', marker=\"o\", label = \"zeros\")\n",
    "        X = [abs(vec[i]) for vec in ones_FFT_special]\n",
    "        Y = [abs(vec[j]) for vec in ones_FFT_special]\n",
    "        ax.scatter(X,Y, color='blue', marker=\"o\", facecolors='none', label = \"zeros_translated\")\n",
    "        \n",
    "        X = [abs(vec[i]) for vec in zeros_FFT]\n",
    "        Y = [abs(vec[j]) for vec in zeros_FFT]\n",
    "        ax.scatter(X,Y, color='red', marker=\"^\", label = \"ones\")\n",
    "        X = [abs(vec[i]) for vec in zeros_FFT_special]\n",
    "        Y = [abs(vec[j]) for vec in zeros_FFT_special]\n",
    "        ax.scatter(X,Y, color='blue', marker=\"^\", facecolors='none', label = \"ones_translated\")\n",
    "    \n",
    "        #ax.set_xlabel(\"$A_{}$\".format(di))\n",
    "        #ax.set_ylabel(\"$A_{}$\".format(dj))\n",
    "        ax.legend()\n",
    "        \n",
    "fig.suptitle(\"Translation\")\n",
    "plt.show()"
   ]
  },
  {
   "cell_type": "markdown",
   "metadata": {},
   "source": [
    "As expected, the shift disapered at higher Fourier Descriptors than $A_0$."
   ]
  },
  {
   "cell_type": "markdown",
   "metadata": {},
   "source": [
    "**Scale**  \n",
    "We'll multiply every element of the contour by a factor."
   ]
  },
  {
   "cell_type": "code",
   "execution_count": null,
   "metadata": {
    "scrolled": true
   },
   "outputs": [],
   "source": [
    "#plt.imshow(np.where(ones_im[0] > 0.8, 1, 0))\n",
    "desc = np.array([0, 1, 2]) #Which values from the Fourier Transform we want to keep\n",
    "\n",
    "ones_complex_special = [[x*1.2 for x in one_complex] for one_complex in ones_complex]\n",
    "ones_FFT_special = [np.fft.fft(one_complex_special)[desc] for one_complex_special in ones_complex_special]\n",
    "\n",
    "zeros_complex_special = [[x*1.2 for x in zeros_complex] for zeros_complex in zeros_complex]\n",
    "zeros_FFT_special = [np.fft.fft(zero_complex_special)[desc] for zero_complex_special in zeros_complex_special]\n",
    "\n",
    "fig, axes = plt.subplots(len(desc), len(desc), figsize=(16, 16))#quadrillage de plot\n",
    "\n",
    "for i, (di, axi) in enumerate(zip(desc, axes)):\n",
    "    axi[0].set_ylabel(\"$A_{}$\".format(di))\n",
    "    for j, (dj, ax) in enumerate(zip(desc, axi)) :\n",
    "        if(i == 0):\n",
    "            ax.set_xlabel(\"$A_{}$\".format(dj))\n",
    "            ax.xaxis.set_label_position('top')\n",
    "            #ax.xaxis.set_ticks_position('top')\n",
    "        X = [abs(vec[i]) for vec in ones_FFT]\n",
    "        Y = [abs(vec[j]) for vec in ones_FFT]\n",
    "        ax.scatter(X,Y, color='red', marker=\"o\", label = \"zeros\")\n",
    "        X = [abs(vec[i]) for vec in ones_FFT_special]\n",
    "        Y = [abs(vec[j]) for vec in ones_FFT_special]\n",
    "        ax.scatter(X,Y, color='blue', marker=\"o\", facecolors='none', label = \"zeros_scaled\")\n",
    "        \n",
    "        X = [abs(vec[i]) for vec in zeros_FFT]\n",
    "        Y = [abs(vec[j]) for vec in zeros_FFT]\n",
    "        ax.scatter(X,Y, color='red', marker=\"^\", label = \"ones\")\n",
    "        X = [abs(vec[i]) for vec in zeros_FFT_special]\n",
    "        Y = [abs(vec[j]) for vec in zeros_FFT_special]\n",
    "        ax.scatter(X,Y, color='blue', marker=\"^\", facecolors='none', label = \"ones_scaled\")\n",
    "    \n",
    "        #ax.set_xlabel(\"$A_{}$\".format(di))\n",
    "        #ax.set_ylabel(\"$A_{}$\".format(dj))\n",
    "        ax.legend()\n",
    "fig.suptitle(\"Scale\")\n",
    "plt.show()"
   ]
  },
  {
   "cell_type": "markdown",
   "metadata": {},
   "source": [
    "As axpected, the scale is not invarient."
   ]
  },
  {
   "cell_type": "markdown",
   "metadata": {},
   "source": [
    "**Rotation**  \n",
    "We'll rotate the whole contour:\n",
    "- Shift it to have the (0,0) point in the middle of the image\n",
    "- Apply a rotation by multiplication by $e^{j\\theta}$\n",
    "- Shift it back to it's initial coordinates system."
   ]
  },
  {
   "cell_type": "code",
   "execution_count": null,
   "metadata": {},
   "outputs": [],
   "source": [
    "#plt.imshow(np.where(ones_im[0] > 0.8, 1, 0))\n",
    "desc = np.array([0, 1, 2]) #Which values from the Fourier Transform we want to keep\n",
    "im_shift=np.complex(ones_im[0].shape[0]/2,ones_im[0].shape[1]/2)\n",
    "angle=0.23\n",
    "\n",
    "ones_complex_special = [[np.exp(1j*angle)*(x-im_shift)+im_shift for x in one_complex] for one_complex in ones_complex]\n",
    "ones_FFT_special = [np.fft.fft(one_complex_special)[desc] for one_complex_special in ones_complex_special]\n",
    "\n",
    "zeros_complex_special = [[np.exp(1j*angle)*(x-im_shift)+im_shift for x in zeros_complex] for zeros_complex in zeros_complex]\n",
    "zeros_FFT_special = [np.fft.fft(zero_complex_special)[desc] for zero_complex_special in zeros_complex_special]\n",
    "\n",
    "fig, axes = plt.subplots(len(desc), len(desc), figsize=(16, 16))#quadrillage de plot\n",
    "\n",
    "for i, (di, axi) in enumerate(zip(desc, axes)):\n",
    "    axi[0].set_ylabel(\"$A_{}$\".format(di))\n",
    "    for j, (dj, ax) in enumerate(zip(desc, axi)) :\n",
    "        if(i == 0):\n",
    "            ax.set_xlabel(\"$A_{}$\".format(dj))\n",
    "            ax.xaxis.set_label_position('top')\n",
    "            #ax.xaxis.set_ticks_position('top')\n",
    "        X = [abs(vec[i]) for vec in ones_FFT]\n",
    "        Y = [abs(vec[j]) for vec in ones_FFT]\n",
    "        ax.scatter(X,Y, color='red', marker=\"o\", label = \"zeros\")\n",
    "        X = [abs(vec[i]) for vec in ones_FFT_special]\n",
    "        Y = [abs(vec[j]) for vec in ones_FFT_special]\n",
    "        ax.scatter(X,Y, color='blue', marker=\"o\", facecolors='none', label = \"zeros_rotated\")\n",
    "        \n",
    "        X = [abs(vec[i]) for vec in zeros_FFT]\n",
    "        Y = [abs(vec[j]) for vec in zeros_FFT]\n",
    "        ax.scatter(X,Y, color='red', marker=\"^\", label = \"ones\")\n",
    "        X = [abs(vec[i]) for vec in zeros_FFT_special]\n",
    "        Y = [abs(vec[j]) for vec in zeros_FFT_special]\n",
    "        ax.scatter(X,Y, color='blue', marker=\"^\", facecolors='none', label = \"ones_rotated\")\n",
    "    \n",
    "        #ax.set_xlabel(\"$A_{}$\".format(di))\n",
    "        #ax.set_ylabel(\"$A_{}$\".format(dj))\n",
    "        ax.legend()\n",
    "        \n",
    "fig.suptitle(\"Rotation\")\n",
    "plt.show()"
   ]
  },
  {
   "cell_type": "markdown",
   "metadata": {},
   "source": [
    "As we plot the amplitudes in these graphs, a rotation should not change the behaviour of our output.  \n",
    "But, we see some differences as we see some red points. Note that these changes are not all in the same direction. They could come from computation errors.  \n",
    "Note that it could be interesting to have a non-rotation invarient way of clustering, as numbers are not rotation invarient. (Think about $8$ and $\\infty$ or $1$ and $7$)"
   ]
  },
  {
   "cell_type": "markdown",
   "metadata": {},
   "source": [
    "**Mirror**\n",
    "We'll mirror on the horizontal axis the whole contour:\n",
    "- Shift it to have the (0,0) point in the middle of the image\n",
    "- Change the sign of the imaginary part\n",
    "- Shift it back to it's initial coordinates system."
   ]
  },
  {
   "cell_type": "code",
   "execution_count": null,
   "metadata": {},
   "outputs": [],
   "source": [
    "#plt.imshow(np.where(ones_im[0] > 0.8, 1, 0))\n",
    "desc = np.array([0, 1, 2]) #Which values from the Fourier Transform we want to keep\n",
    "\n",
    "\n",
    "ones_complex_special = [[np.conjugate(x-im_shift)+im_shift for x in one_complex] for one_complex in ones_complex]\n",
    "ones_FFT_special = [np.fft.fft(one_complex_special)[desc] for one_complex_special in ones_complex_special]\n",
    "\n",
    "zeros_complex_special = [[np.conjugate(x-im_shift)+im_shift for x in zero_complex] for zero_complex in zeros_complex]\n",
    "zeros_FFT_special = [np.fft.fft(zero_complex_special)[desc] for zero_complex_special in zeros_complex_special]\n",
    "\n",
    "fig, axes = plt.subplots(len(desc), len(desc), figsize=(16, 16))#quadrillage de plot\n",
    "\n",
    "for i, (di, axi) in enumerate(zip(desc, axes)):\n",
    "    axi[0].set_ylabel(\"$A_{}$\".format(di))\n",
    "    for j, (dj, ax) in enumerate(zip(desc, axi)) :\n",
    "        if(i == 0):\n",
    "            ax.set_xlabel(\"$A_{}$\".format(dj))\n",
    "            ax.xaxis.set_label_position('top')\n",
    "            #ax.xaxis.set_ticks_position('top')\n",
    "        X = [abs(vec[i]) for vec in ones_FFT]\n",
    "        Y = [abs(vec[j]) for vec in ones_FFT]\n",
    "        ax.scatter(X,Y, color='red', marker=\"o\", label = \"zeros\")\n",
    "        X = [abs(vec[i]) for vec in ones_FFT_special]\n",
    "        Y = [abs(vec[j]) for vec in ones_FFT_special]\n",
    "        ax.scatter(X,Y, color='blue', marker=\"o\", facecolors='none', label = \"zeros_mirrored\")\n",
    "        \n",
    "        X = [abs(vec[i]) for vec in zeros_FFT]\n",
    "        Y = [abs(vec[j]) for vec in zeros_FFT]\n",
    "        ax.scatter(X,Y, color='red', marker=\"^\", label = \"ones\")\n",
    "        X = [abs(vec[i]) for vec in zeros_FFT_special]\n",
    "        Y = [abs(vec[j]) for vec in zeros_FFT_special]\n",
    "        ax.scatter(X,Y, color='blue', marker=\"^\", facecolors='none', label = \"ones_mirrored\")\n",
    "    \n",
    "        #ax.set_xlabel(\"$A_{}$\".format(di))\n",
    "        #ax.set_ylabel(\"$A_{}$\".format(dj))\n",
    "        ax.legend()\n",
    "        \n",
    "fig.suptitle(\"Mirror\")\n",
    "plt.show()"
   ]
  },
  {
   "cell_type": "markdown",
   "metadata": {},
   "source": [
    "We thought we would have an invarient response of mirroring.  \n",
    "Why do we have this output ?"
   ]
  },
  {
   "cell_type": "markdown",
   "metadata": {},
   "source": [
    "## Part 2\n",
    "The `lab-02-data/part2` folder contains grey-scale pictures of handwritten \"2\" and \"3\".\n",
    "Extract the same feature (typically 2 Fourier descriptors) as in part 1 also on these images and plot them on the same graph as the features of the \"0\" and \"1\".\n",
    "Is it possible to discriminate all these 4 digits with a 2-dimensional feature vector?"
   ]
  },
  {
   "cell_type": "markdown",
   "metadata": {},
   "source": [
    "### 2.1 Data visualization"
   ]
  },
  {
   "cell_type": "code",
   "execution_count": null,
   "metadata": {},
   "outputs": [],
   "source": [
    "#  Load twos\n",
    "twos_path = os.path.join(data_base_path, data_folder, 'part2', '2')\n",
    "twos_names = [nm for nm in os.listdir(twos_path) if '.png' in nm]  # make sure to only load .png\n",
    "twos_names.sort()  # sort file names\n",
    "ic = skimage.io.imread_collection([os.path.join(twos_path, nm) for nm in twos_names])\n",
    "twos_im = skimage.io.concatenate_images(ic)\n",
    "#  Load threes\n",
    "threes_path = os.path.join(data_base_path, data_folder, 'part2', '3')\n",
    "threes_names = [nm for nm in os.listdir(threes_path) if '.png' in nm]  # make sure to only load .png\n",
    "threes_names.sort()  # sort file names\n",
    "ic = skimage.io.imread_collection(([os.path.join(threes_path, nm) for nm in threes_names]))\n",
    "threes_im = skimage.io.concatenate_images(ic)\n",
    "\n",
    "# Plot images\n",
    "fig, axes = plt.subplots(2, len(twos_im), figsize=(12, 3))\n",
    "for ax, im, nm in zip(axes[0], twos_im, twos_names):\n",
    "    ax.imshow(im, cmap='gray')\n",
    "    ax.axis('off')\n",
    "    ax.set_title(nm)\n",
    "for ax, im, nm in zip(axes[1], threes_im, threes_names):\n",
    "    ax.imshow(im, cmap='gray')\n",
    "    ax.axis('off')\n",
    "    ax.set_title(nm)"
   ]
  },
  {
   "cell_type": "markdown",
   "metadata": {},
   "source": [
    "### 2.2 Additional method(s) and conclusion\n",
    "Add your implementations and discussions here"
   ]
  },
  {
   "cell_type": "code",
   "execution_count": null,
   "metadata": {},
   "outputs": [],
   "source": [
    "twos_contour = []\n",
    "threes_contour = []\n",
    "\n",
    "fig, axes = plt.subplots(2, len(twos_im), figsize=(20, 5))\n",
    "for ax, im, nm, k in zip(axes[0], twos_im, twos_names, np.arange(0, twos_im.shape[0]) ):\n",
    "    ax.imshow(im, cmap='gray')\n",
    "    twos_contour.append(find_contours(im, 10)[0])\n",
    "    ax.plot(twos_contour[k][:, 1], twos_contour[k][:, 0], '-b', lw=3)\n",
    "    ax.axis('off')\n",
    "    ax.set_title(nm)\n",
    "    \n",
    "for ax, im, nm, k in zip(axes[1], threes_im, threes_names, np.arange(0, threes_im.shape[0])):\n",
    "    ax.imshow(im, cmap='gray')\n",
    "    threes_contour.append(find_contours(im, 10)[0])\n",
    "    ax.plot(threes_contour[k][:, 1], threes_contour[k][:, 0], '-b', lw=3)\n",
    "    ax.axis('off')\n",
    "    ax.set_title(nm)"
   ]
  },
  {
   "cell_type": "code",
   "execution_count": null,
   "metadata": {},
   "outputs": [],
   "source": [
    "twos_complex = [[np.complex(x[1], x[0]) for x in X] for X in twos_contour[0:10]]\n",
    "twos_FFT = [np.fft.fft(x)[desc] for x in twos_complex]\n",
    "\n",
    "threes_complex = [[np.complex(x[1], x[0]) for x in X] for X in threes_contour[0:10]]\n",
    "threes_FFT = [np.fft.fft(x)[desc] for x in threes_complex]\n",
    "\n",
    "zeros = {\"FFT\":zeros_FFT,\n",
    "         \"name\":\"zeros\",\n",
    "       \"marker\":\"o\",\n",
    "       \"color\":\"red\"}\n",
    "\n",
    "ones = {\"FFT\":ones_FFT,\n",
    "        \"name\":\"ones\",\n",
    "       \"marker\":\"^\",\n",
    "       \"color\":\"blue\"}\n",
    "\n",
    "twos = {\"FFT\":twos_FFT,\n",
    "        \"name\":\"twos\",\n",
    "       \"marker\":\"s\",\n",
    "       \"color\":\"orange\"}\n",
    "\n",
    "threes = {\"FFT\":threes_FFT,\n",
    "          \"name\":\"threes\",\n",
    "       \"marker\":\"+\",\n",
    "       \"color\":\"green\"}\n",
    "\n",
    "datass = {\"zeros\":zeros, \"ones\":ones, \"twos\":twos, \"threes\":threes}\n",
    "\n",
    "fig, axes = plt.subplots(len(desc), len(desc), figsize=(16, 16))#quadrillage de plot\n",
    "\n",
    "for i, (di, axi) in enumerate(zip(desc, axes)):\n",
    "    axi[0].set_ylabel(\"$A_{}$\".format(di))\n",
    "    for j, (dj, ax) in enumerate(zip(desc, axi)) :\n",
    "        if(i == 0):\n",
    "            ax.set_xlabel(\"$A_{}$\".format(dj))\n",
    "            ax.xaxis.set_label_position('top')            \n",
    "        for x in datass:\n",
    "            X = [abs(vec[j]) for vec in datass[x][\"FFT\"]]\n",
    "            Y = [abs(vec[i]) for vec in datass[x][\"FFT\"]]\n",
    "            ax.scatter(X, Y, color=datass[x][\"color\"], marker=datass[x][\"marker\"], label = datass[x][\"name\"])\n",
    "        ax.legend()\n",
    "plt.show()"
   ]
  },
  {
   "cell_type": "markdown",
   "metadata": {},
   "source": [
    "One can see that with only 2d coordinates, it is not possible to descriminate these numbers.\n",
    "However, in more dimentions, it seems to be possible to do so. The *ones* are near the *threes* in the $A_3$, $A_1$ plot. But they are far away in the the $A_2$, $A_1$ plot.  \n",
    "Lets try to visulalise it with a 3d plot with $A_1$, $A_2$ and $A_3$ as coordinates."
   ]
  },
  {
   "cell_type": "code",
   "execution_count": null,
   "metadata": {},
   "outputs": [],
   "source": [
    "from mpl_toolkits.mplot3d import Axes3D\n",
    "fig = plt.figure(figsize=(16,12))\n",
    "ax = fig.add_subplot(111, projection='3d')\n",
    "Ax=desc[1]\n",
    "Ay=desc[2]\n",
    "Az=desc[3]\n",
    "for x in datass:\n",
    "    X = [abs(vec[Ax]) for vec in datass[x][\"FFT\"]]\n",
    "    Y = [abs(vec[Ay]) for vec in datass[x][\"FFT\"]]\n",
    "    Z = [abs(vec[Az]) for vec in datass[x][\"FFT\"]]\n",
    "\n",
    "    ax.scatter(X, Y, Z, s=40, alpha=1, color=datass[x][\"color\"], marker=datass[x][\"marker\"], label = datass[x][\"name\"])\n",
    "    for xx,yy,zz in zip(X,Y,Z): ax.plot([xx,xx],[yy,yy],[0,zz], '-', color=datass[x][\"color\"])\n",
    "\n",
    "ax.set_xlabel(\"$A_{}$\".format(desc[Ax]))\n",
    "ax.set_ylabel(\"$A_{}$\".format(desc[Ay]))\n",
    "ax.set_zlabel(\"$A_{}$\".format(desc[Az]))\n",
    "ax.legend()\n",
    "if True:\n",
    "    for ang in range(0,360):#[0, 20, 40, 80, 100, 120]:\n",
    "        ax.view_init(30, ang)\n",
    "        plt.savefig(\"angle_{:04d}.png\".format(ang))\n"
   ]
  },
  {
   "cell_type": "markdown",
   "metadata": {},
   "source": [
    "We convert images to a movie by using this code in bash :  \n",
    "*ffmpeg -framerate 24 -pattern_type glob -i '&ast;.png' output.mp4*  "
   ]
  },
  {
   "cell_type": "code",
   "execution_count": null,
   "metadata": {},
   "outputs": [],
   "source": [
    "%%bash\n",
    "ffmpeg -framerate 24 -pattern_type glob -i '*.png' -loglevel warning -y out.mp4 "
   ]
  },
  {
   "cell_type": "markdown",
   "metadata": {},
   "source": [
    "Then, we visualise it to see if we have some clustering effects."
   ]
  },
  {
   "cell_type": "code",
   "execution_count": null,
   "metadata": {},
   "outputs": [],
   "source": [
    "from IPython.display import Video\n",
    "\n",
    "Video(\"out.mp4\", width=1024, height=576)"
   ]
  },
  {
   "cell_type": "markdown",
   "metadata": {},
   "source": [
    "We see that we have better clustering. We see clearly the *zeros*. The *ones* are packed, except one or two that goes with the"
   ]
  }
 ],
 "metadata": {
  "kernelspec": {
   "display_name": "Python 3",
   "language": "python",
   "name": "python3"
  },
  "language_info": {
   "codemirror_mode": {
    "name": "ipython",
    "version": 3
   },
   "file_extension": ".py",
   "mimetype": "text/x-python",
   "name": "python",
   "nbconvert_exporter": "python",
   "pygments_lexer": "ipython3",
   "version": "3.7.4"
  }
 },
 "nbformat": 4,
 "nbformat_minor": 2
}

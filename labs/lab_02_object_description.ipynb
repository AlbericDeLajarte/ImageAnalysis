{
 "cells": [
  {
   "cell_type": "markdown",
   "metadata": {},
   "source": [
    "# [IAPR 2020:][iapr2020] Lab 2 ‒  Object description\n",
    "\n",
    "**Authors:** Quentin Talon, Albéric De Lajarte \n",
    "**Due date:** 24.04.2020\n",
    "\n",
    "[iapr2020]: https://github.com/LTS5/iapr-2020"
   ]
  },
  {
   "cell_type": "markdown",
   "metadata": {},
   "source": [
    "## Extract relevant data\n",
    "We first need to extract the `lab-02-data.tar.gz` archive.\n",
    "To this end, we use the [tarfile] module from the Python standard library.\n",
    "\n",
    "[tarfile]: https://docs.python.org/3.6/library/tarfile.html"
   ]
  },
  {
   "cell_type": "code",
   "execution_count": null,
   "metadata": {},
   "outputs": [],
   "source": [
    "import tarfile\n",
    "import os\n",
    "\n",
    "data_base_path = os.path.join(os.pardir, 'data')\n",
    "data_folder = 'lab-02-data'\n",
    "tar_path = os.path.join(data_base_path, data_folder + '.tar.gz')\n",
    "with tarfile.open(tar_path, mode='r:gz') as tar:\n",
    "    tar.extractall(path=data_base_path)"
   ]
  },
  {
   "cell_type": "markdown",
   "metadata": {},
   "source": [
    "## Part 1\n",
    "In the `lab-02-data/part1` folder, you will find 28x28 grey-scale pictures of handwritten \"0\" and \"1\".\n",
    "These digits have been extracted from MNIST dataset (http://yann.lecun.com/exdb/mnist/).\n",
    "\n",
    "Your goal is to extract, from each of those images, a 2-dimensional feature vector (i.e. 2 features) and to plot them all on a 2D graph.\n",
    "If you have chosen good features, the vectors of the \"0\"'s should nicely cluster in one part of the plane and those of the \"1\"'s in another.\n",
    "\n",
    "Please try first the Fourier Descriptors.\n",
    "You can make several attempts: e.g. with and without invariance to rotation, translation, scaling, etc.\n",
    "You can also for instance rotate the images and assess the invariance in rotation.\n",
    "\n",
    "**Note:** for the Fourier descriptors, the u_k signal has to be constructed by following the contour point after point.\n",
    "Some pre-processing (image binarization, possibly some Mathematical Morphology) might be useful.\n",
    "\n",
    "Then feel free to try other features, the more you try, the better it will be (for you)."
   ]
  },
  {
   "cell_type": "markdown",
   "metadata": {},
   "source": [
    "### 1.1 Data visualization"
   ]
  },
  {
   "cell_type": "code",
   "execution_count": null,
   "metadata": {},
   "outputs": [],
   "source": [
    "import skimage.io\n",
    "import matplotlib.pyplot as plt\n",
    "%matplotlib inline\n",
    "\n",
    "# Load images\n",
    "data_base_path = os.path.join(os.pardir, 'data')\n",
    "data_folder = 'lab-02-data'\n",
    "#  Load zeros\n",
    "zeros_path = os.path.join(data_base_path, data_folder, 'part1', '0')\n",
    "zeros_names = [nm for nm in os.listdir(zeros_path) if '.png' in nm]  # make sure to only load .png\n",
    "zeros_names.sort()  # sort file names\n",
    "ic = skimage.io.imread_collection([os.path.join(zeros_path, nm) for nm in zeros_names])\n",
    "zeros_im = skimage.io.concatenate_images(ic)\n",
    "#  Load ones\n",
    "ones_path = os.path.join(data_base_path, data_folder, 'part1', '1')\n",
    "ones_names = [nm for nm in os.listdir(ones_path) if '.png' in nm]  # make sure to only load .png\n",
    "ones_names.sort()  # sort file names\n",
    "ic = skimage.io.imread_collection(([os.path.join(ones_path, nm) for nm in ones_names]))\n",
    "ones_im = skimage.io.concatenate_images(ic)\n",
    "\n",
    "# Plot images\n",
    "fig, axes = plt.subplots(2, len(zeros_im), figsize=(12, 3))\n",
    "for ax, im, nm in zip(axes[0], zeros_im, zeros_names):\n",
    "    ax.imshow(im, cmap='gray')\n",
    "    ax.axis('off')\n",
    "    ax.set_title(nm)\n",
    "for ax, im, nm in zip(axes[1], ones_im, ones_names):\n",
    "    ax.imshow(im, cmap='gray')\n",
    "    ax.axis('off')\n",
    "    ax.set_title(nm)"
   ]
  },
  {
   "cell_type": "markdown",
   "metadata": {},
   "source": [
    "### 1.2 Fourier descriptors\n",
    "Add your implementation and discussion"
   ]
  },
  {
   "cell_type": "markdown",
   "metadata": {},
   "source": [
    "#### 1.2.a Fourier descriptor via contour\n",
    "We blablabla"
   ]
  },
  {
   "cell_type": "markdown",
   "metadata": {},
   "source": [
    "### 1.3 Additional method(s)\n",
    "Add your implementation and discussion"
   ]
  },
  {
   "cell_type": "markdown",
   "metadata": {},
   "source": [
    "#### 1.3.1 Fourier descriptor via binary image\n",
    "- We simply create a binary image by setting an arbitrary treshold.\n",
    "- We create a vector containing the (x,y) coordinates in form of (x+jy)\n",
    "- We perform a Fourier Transform via the fft algorithm on our vector\n",
    "- We select the Fourier coefficiants we want\n",
    "- We show the real and imaginary parts of these Fourier coef. for *ones* and *zeros*"
   ]
  },
  {
   "cell_type": "code",
   "execution_count": null,
   "metadata": {},
   "outputs": [],
   "source": [
    "import numpy as np\n",
    "#plt.imshow(np.where(ones_im[0] > 0.8, 1, 0))\n",
    "desc = [0, 1, 2, 3] #Which values from the Fourier Transform we want to keep\n",
    "th=0.8 #Stupid treshold to get Binary image.\n",
    "\n",
    "vecones_fd = [np.fft.fft([np.complex(i,j) for i, l in enumerate(np.where(x > 0.8, 1, 0)) for j, c in enumerate(l) if c > 0])[desc] for x in ones_im[0:11]]\n",
    "veczeros_fd = [np.fft.fft([np.complex(i,j) for i, l in enumerate(np.where(x > 0.8, 1, 0)) for j, c in enumerate(l) if c > 0])[desc] for x in zeros_im[0:11]]\n",
    "\n",
    "fig, axes = plt.subplots(1, len(desc), figsize=(16, 16/len(desc)))\n",
    "for i, (d, ax) in enumerate(zip(desc, axes)):    \n",
    "    X = [vec[i].real for vec in veczeros_fd]\n",
    "    Y = [vec[i].imag for vec in veczeros_fd]\n",
    "    ax.scatter(X,Y, color='red', marker=\"o\", label = \"zeros\")\n",
    "    \n",
    "    X = [vec[i].real for vec in vecones_fd]\n",
    "    Y = [vec[i].imag for vec in vecones_fd]\n",
    "    ax.scatter(X,Y, color='blue', marker=\"o\", label = \"ones\")\n",
    "    \n",
    "    ax.set_xlabel(\"Real\")\n",
    "    ax.set_ylabel(\"Imaginary\")\n",
    "    ax.set_title(\"Fourier Descriptor #{}\".format(d))\n",
    "    ax.legend()\n",
    "plt.show()"
   ]
  },
  {
   "cell_type": "markdown",
   "metadata": {},
   "source": [
    "The result is nice as we see clusters separated and regularity in different clusters. It takes less calculus to create the image but more calculus to compute the Fourier transform."
   ]
  },
  {
   "cell_type": "markdown",
   "metadata": {},
   "source": [
    "#### 1.3.2 Fourier descriptor via grayscale image\n",
    "\n",
    "- We keep the grayscale image\n",
    "- We create a vector containing the (x,y) coordinates in form of image(x,y)*(x+jy)\n",
    "- We perform a Fourier Transform via the fft algorithm on our vector\n",
    "- We select the Fourier coefficiants we want\n",
    "- We show the real and imaginary parts of these Fourier coef. for *ones* and *zeros*"
   ]
  },
  {
   "cell_type": "code",
   "execution_count": null,
   "metadata": {},
   "outputs": [],
   "source": [
    "import numpy as np\n",
    "desc = [0, 1, 2, 3] #Which values from the Fourier Transform we want to keep\n",
    "\n",
    "vecones_fd_gray = [np.fft.fft([c*np.complex(i,j) for i, l in enumerate(x) for j, c in enumerate(l) if c > 0])[desc] for x in ones_im[0:11]]\n",
    "veczeros_fd_gray = [np.fft.fft([c*np.complex(i,j) for i, l in enumerate(x) for j, c in enumerate(l) if c > 0])[desc] for x in zeros_im[0:11]]\n",
    "\n",
    "fig, axes = plt.subplots(1, len(desc), figsize=(16, 16/len(desc)))\n",
    "for i, (d, ax) in enumerate(zip(desc, axes)):    \n",
    "    X = [vec[i].real for vec in veczeros_fd_gray]\n",
    "    Y = [vec[i].imag for vec in veczeros_fd_gray]\n",
    "    ax.scatter(X,Y, color='red', marker=\"o\", label = \"zeros\")\n",
    "    \n",
    "    X = [vec[i].real for vec in vecones_fd_gray]\n",
    "    Y = [vec[i].imag for vec in vecones_fd_gray]\n",
    "    ax.scatter(X,Y, color='blue', marker=\"o\", label = \"ones\")\n",
    "    \n",
    "    ax.set_xlabel(\"Real\")\n",
    "    ax.set_ylabel(\"Imaginary\")\n",
    "    ax.set_title(\"Fourier Descriptor gray_lvl #{}\".format(d))\n",
    "    ax.legend()\n",
    "plt.show()"
   ]
  },
  {
   "cell_type": "markdown",
   "metadata": {},
   "source": [
    "This was a bad idea since the beginning as multiplying the (x+iy) complex number by a value between 0 and 1 makes values an identical result as changing the coordinates. So we don't weight the descriptor, we change their meaning.\n",
    "\n",
    "As we have few low value pixels, it doesn't affect much the output."
   ]
  },
  {
   "cell_type": "markdown",
   "metadata": {},
   "source": [
    "#### 1.3.3 Invariences (Translation, Rotation, Scale)\n",
    "Let's try them !"
   ]
  },
  {
   "cell_type": "markdown",
   "metadata": {},
   "source": [
    "## Part 2\n",
    "The `lab-02-data/part2` folder contains grey-scale pictures of handwritten \"2\" and \"3\".\n",
    "Extract the same feature (typically 2 Fourier descriptors) as in part 1 also on these images and plot them on the same graph as the features of the \"0\" and \"1\".\n",
    "Is it possible to discriminate all these 4 digits with a 2-dimensional feature vector?"
   ]
  },
  {
   "cell_type": "markdown",
   "metadata": {},
   "source": [
    "### 2.1 Data visualization"
   ]
  },
  {
   "cell_type": "code",
   "execution_count": null,
   "metadata": {},
   "outputs": [],
   "source": [
    "#  Load zeros\n",
    "twos_path = os.path.join(data_base_path, data_folder, 'part2', '2')\n",
    "twos_names = [nm for nm in os.listdir(twos_path) if '.png' in nm]  # make sure to only load .png\n",
    "twos_names.sort()  # sort file names\n",
    "ic = skimage.io.imread_collection([os.path.join(twos_path, nm) for nm in twos_names])\n",
    "twos_im = skimage.io.concatenate_images(ic)\n",
    "#  Load ones\n",
    "threes_path = os.path.join(data_base_path, data_folder, 'part2', '3')\n",
    "threes_names = [nm for nm in os.listdir(threes_path) if '.png' in nm]  # make sure to only load .png\n",
    "threes_names.sort()  # sort file names\n",
    "ic = skimage.io.imread_collection(([os.path.join(threes_path, nm) for nm in threes_names]))\n",
    "threes_im = skimage.io.concatenate_images(ic)\n",
    "\n",
    "# Plot images\n",
    "fig, axes = plt.subplots(2, len(twos_im), figsize=(12, 3))\n",
    "for ax, im, nm in zip(axes[0], twos_im, twos_names):\n",
    "    ax.imshow(im, cmap='gray')\n",
    "    ax.axis('off')\n",
    "    ax.set_title(nm)\n",
    "for ax, im, nm in zip(axes[1], threes_im, threes_names):\n",
    "    ax.imshow(im, cmap='gray')\n",
    "    ax.axis('off')\n",
    "    ax.set_title(nm)"
   ]
  },
  {
   "cell_type": "markdown",
   "metadata": {},
   "source": [
    "### 2.2 Additional method(s) and conclusion\n",
    "Add your implementations and discussions here"
   ]
  },
  {
   "cell_type": "code",
   "execution_count": null,
   "metadata": {},
   "outputs": [],
   "source": []
  }
 ],
 "metadata": {
  "kernelspec": {
   "display_name": "Python 3",
   "language": "python",
   "name": "python3"
  },
  "language_info": {
   "codemirror_mode": {
    "name": "ipython",
    "version": 3
   },
   "file_extension": ".py",
   "mimetype": "text/x-python",
   "name": "python",
   "nbconvert_exporter": "python",
   "pygments_lexer": "ipython3",
   "version": "3.7.4"
  }
 },
 "nbformat": 4,
 "nbformat_minor": 2
}
